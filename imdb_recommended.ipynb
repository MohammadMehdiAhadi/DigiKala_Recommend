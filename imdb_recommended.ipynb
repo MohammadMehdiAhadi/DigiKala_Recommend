{
 "cells": [
  {
   "cell_type": "code",
   "id": "initial_id",
   "metadata": {
    "collapsed": true,
    "ExecuteTime": {
     "end_time": "2025-01-17T20:01:08.748369400Z",
     "start_time": "2025-01-17T20:01:06.723895700Z"
    }
   },
   "source": [
    "import pandas as pd\n",
    "from sklearn.metrics.pairwise import cosine_similarity, euclidean_distances\n",
    "from sklearn.feature_extraction.text import CountVectorizer\n",
    "import numpy as np\n",
    "# import cudf"
   ],
   "outputs": [],
   "execution_count": 1
  },
  {
   "metadata": {
    "ExecuteTime": {
     "end_time": "2025-01-16T13:40:22.427712Z",
     "start_time": "2025-01-16T13:40:22.405257Z"
    }
   },
   "cell_type": "code",
   "source": [
    "df = pd.read_csv('imdb_top_1000.csv')\n",
    "\n",
    "# cudf\n",
    "# df = cudf.read_csv('imdb_top_1000.csv')"
   ],
   "id": "1505fe2f0801b798",
   "outputs": [],
   "execution_count": 7
  },
  {
   "metadata": {
    "ExecuteTime": {
     "end_time": "2025-01-16T13:40:43.512852Z",
     "start_time": "2025-01-16T13:40:43.504894Z"
    }
   },
   "cell_type": "code",
   "source": [
    "df = df[['Series_Title', 'Genre', 'IMDB_Rating', 'Meta_score', 'Director', 'Star1', 'Star2']]\n",
    "\n",
    "df.dropna(inplace=True)"
   ],
   "id": "fe8f6083cfb3686a",
   "outputs": [],
   "execution_count": 8
  },
  {
   "metadata": {
    "ExecuteTime": {
     "end_time": "2025-01-16T13:43:27.125382Z",
     "start_time": "2025-01-16T13:43:27.115756Z"
    }
   },
   "cell_type": "code",
   "source": [
    "df['Combined_Features'] = df['Genre'] + ' ' + df['Director'] + ' ' + df['Star1'] + ' ' + df['Star2']"
   ],
   "id": "4d6197ee314b8213",
   "outputs": [],
   "execution_count": 15
  },
  {
   "metadata": {
    "ExecuteTime": {
     "end_time": "2025-01-16T13:43:28.065222Z",
     "start_time": "2025-01-16T13:43:28.056828Z"
    }
   },
   "cell_type": "code",
   "source": [
    "df.head()"
   ],
   "id": "c1aeb1ed8740bdb8",
   "outputs": [
    {
     "data": {
      "text/plain": [
       "               Series_Title                 Genre  IMDB_Rating  Meta_score  \\\n",
       "0  The Shawshank Redemption                 Drama          9.3        80.0   \n",
       "1             The Godfather          Crime, Drama          9.2       100.0   \n",
       "2           The Dark Knight  Action, Crime, Drama          9.0        84.0   \n",
       "3    The Godfather: Part II          Crime, Drama          9.0        90.0   \n",
       "4              12 Angry Men          Crime, Drama          9.0        96.0   \n",
       "\n",
       "               Director           Star1           Star2  \\\n",
       "0        Frank Darabont     Tim Robbins  Morgan Freeman   \n",
       "1  Francis Ford Coppola   Marlon Brando       Al Pacino   \n",
       "2     Christopher Nolan  Christian Bale    Heath Ledger   \n",
       "3  Francis Ford Coppola       Al Pacino  Robert De Niro   \n",
       "4          Sidney Lumet     Henry Fonda     Lee J. Cobb   \n",
       "\n",
       "                                   Combined_Features  \n",
       "0    Drama Frank Darabont Tim Robbins Morgan Freeman  \n",
       "1  Crime, Drama Francis Ford Coppola Marlon Brand...  \n",
       "2  Action, Crime, Drama Christopher Nolan Christi...  \n",
       "3  Crime, Drama Francis Ford Coppola Al Pacino Ro...  \n",
       "4  Crime, Drama Sidney Lumet Henry Fonda Lee J. Cobb  "
      ],
      "text/html": [
       "<div>\n",
       "<style scoped>\n",
       "    .dataframe tbody tr th:only-of-type {\n",
       "        vertical-align: middle;\n",
       "    }\n",
       "\n",
       "    .dataframe tbody tr th {\n",
       "        vertical-align: top;\n",
       "    }\n",
       "\n",
       "    .dataframe thead th {\n",
       "        text-align: right;\n",
       "    }\n",
       "</style>\n",
       "<table border=\"1\" class=\"dataframe\">\n",
       "  <thead>\n",
       "    <tr style=\"text-align: right;\">\n",
       "      <th></th>\n",
       "      <th>Series_Title</th>\n",
       "      <th>Genre</th>\n",
       "      <th>IMDB_Rating</th>\n",
       "      <th>Meta_score</th>\n",
       "      <th>Director</th>\n",
       "      <th>Star1</th>\n",
       "      <th>Star2</th>\n",
       "      <th>Combined_Features</th>\n",
       "    </tr>\n",
       "  </thead>\n",
       "  <tbody>\n",
       "    <tr>\n",
       "      <th>0</th>\n",
       "      <td>The Shawshank Redemption</td>\n",
       "      <td>Drama</td>\n",
       "      <td>9.3</td>\n",
       "      <td>80.0</td>\n",
       "      <td>Frank Darabont</td>\n",
       "      <td>Tim Robbins</td>\n",
       "      <td>Morgan Freeman</td>\n",
       "      <td>Drama Frank Darabont Tim Robbins Morgan Freeman</td>\n",
       "    </tr>\n",
       "    <tr>\n",
       "      <th>1</th>\n",
       "      <td>The Godfather</td>\n",
       "      <td>Crime, Drama</td>\n",
       "      <td>9.2</td>\n",
       "      <td>100.0</td>\n",
       "      <td>Francis Ford Coppola</td>\n",
       "      <td>Marlon Brando</td>\n",
       "      <td>Al Pacino</td>\n",
       "      <td>Crime, Drama Francis Ford Coppola Marlon Brand...</td>\n",
       "    </tr>\n",
       "    <tr>\n",
       "      <th>2</th>\n",
       "      <td>The Dark Knight</td>\n",
       "      <td>Action, Crime, Drama</td>\n",
       "      <td>9.0</td>\n",
       "      <td>84.0</td>\n",
       "      <td>Christopher Nolan</td>\n",
       "      <td>Christian Bale</td>\n",
       "      <td>Heath Ledger</td>\n",
       "      <td>Action, Crime, Drama Christopher Nolan Christi...</td>\n",
       "    </tr>\n",
       "    <tr>\n",
       "      <th>3</th>\n",
       "      <td>The Godfather: Part II</td>\n",
       "      <td>Crime, Drama</td>\n",
       "      <td>9.0</td>\n",
       "      <td>90.0</td>\n",
       "      <td>Francis Ford Coppola</td>\n",
       "      <td>Al Pacino</td>\n",
       "      <td>Robert De Niro</td>\n",
       "      <td>Crime, Drama Francis Ford Coppola Al Pacino Ro...</td>\n",
       "    </tr>\n",
       "    <tr>\n",
       "      <th>4</th>\n",
       "      <td>12 Angry Men</td>\n",
       "      <td>Crime, Drama</td>\n",
       "      <td>9.0</td>\n",
       "      <td>96.0</td>\n",
       "      <td>Sidney Lumet</td>\n",
       "      <td>Henry Fonda</td>\n",
       "      <td>Lee J. Cobb</td>\n",
       "      <td>Crime, Drama Sidney Lumet Henry Fonda Lee J. Cobb</td>\n",
       "    </tr>\n",
       "  </tbody>\n",
       "</table>\n",
       "</div>"
      ]
     },
     "execution_count": 16,
     "metadata": {},
     "output_type": "execute_result"
    }
   ],
   "execution_count": 16
  },
  {
   "metadata": {
    "ExecuteTime": {
     "end_time": "2025-01-16T13:45:30.851800Z",
     "start_time": "2025-01-16T13:45:30.826868Z"
    }
   },
   "cell_type": "code",
   "source": [
    "vectorizer = CountVectorizer(stop_words='english')\n",
    "feature_vector = vectorizer.fit_transform(df['Combined_Features'])\n",
    "\n",
    "# cudf\n",
    "# feature_vector = vectorizer.fit_transform(df['Combined_Features'].tp_pandas().values.astype('U'))\n",
    "\n",
    "feature_vector"
   ],
   "id": "654cd777cde2b65f",
   "outputs": [
    {
     "data": {
      "text/plain": [
       "<843x2271 sparse matrix of type '<class 'numpy.int64'>'\n",
       "\twith 7327 stored elements in Compressed Sparse Row format>"
      ]
     },
     "execution_count": 17,
     "metadata": {},
     "output_type": "execute_result"
    }
   ],
   "execution_count": 17
  },
  {
   "metadata": {
    "ExecuteTime": {
     "end_time": "2025-01-16T13:47:15.500442Z",
     "start_time": "2025-01-16T13:47:15.472648Z"
    }
   },
   "cell_type": "code",
   "source": [
    "similarities = cosine_similarity(feature_vector)\n",
    "\n",
    "similarities"
   ],
   "id": "4d24875a8c864d32",
   "outputs": [
    {
     "data": {
      "text/plain": [
       "array([[1.        , 0.12598816, 0.12598816, ..., 0.12598816, 0.13363062,\n",
       "        0.        ],\n",
       "       [0.12598816, 1.        , 0.22222222, ..., 0.11111111, 0.11785113,\n",
       "        0.11111111],\n",
       "       [0.12598816, 0.22222222, 1.        , ..., 0.11111111, 0.11785113,\n",
       "        0.11111111],\n",
       "       ...,\n",
       "       [0.12598816, 0.11111111, 0.11111111, ..., 1.        , 0.23570226,\n",
       "        0.        ],\n",
       "       [0.13363062, 0.11785113, 0.11785113, ..., 0.23570226, 1.        ,\n",
       "        0.23570226],\n",
       "       [0.        , 0.11111111, 0.11111111, ..., 0.        , 0.23570226,\n",
       "        1.        ]])"
      ]
     },
     "execution_count": 18,
     "metadata": {},
     "output_type": "execute_result"
    }
   ],
   "execution_count": 18
  },
  {
   "metadata": {
    "ExecuteTime": {
     "end_time": "2025-01-16T14:01:02.835627Z",
     "start_time": "2025-01-16T14:01:02.828918Z"
    }
   },
   "cell_type": "code",
   "source": [
    "def recommended_movie(movie_title, num_of_recommendations=5):\n",
    "    if movie_title not in df['Series_Title'].values:\n",
    "        return \"Movie is not in my dataset\"\n",
    "\n",
    "    idx = df[df['Series_Title'] == movie_title].index[0]\n",
    "\n",
    "    similarity_score = list(enumerate(similarities[idx]))\n",
    "    similarity_score = sorted(similarity_score, key=lambda x: x[1], reverse=True)\n",
    "\n",
    "    recommended_idx = [i[0] for i in similarity_score[1:num_of_recommendations + 1]]\n",
    "    return df['Series_Title'].iloc[recommended_idx]\n",
    "\n"
   ],
   "id": "bc240d124ea761d5",
   "outputs": [],
   "execution_count": 44
  },
  {
   "metadata": {
    "ExecuteTime": {
     "end_time": "2025-01-16T14:03:44.346467Z",
     "start_time": "2025-01-16T14:03:44.338973Z"
    }
   },
   "cell_type": "code",
   "source": [
    "print(recommended_movie('The Godfather', 7))"
   ],
   "id": "3b835b3c3368d541",
   "outputs": [
    {
     "name": "stdout",
     "output_type": "stream",
     "text": [
      "3       The Godfather: Part II\n",
      "974    The Godfather: Part III\n",
      "74              Apocalypse Now\n",
      "108                   Scarface\n",
      "164                       Heat\n",
      "305          On the Waterfront\n",
      "416          Dog Day Afternoon\n",
      "Name: Series_Title, dtype: object\n"
     ]
    }
   ],
   "execution_count": 46
  },
  {
   "metadata": {},
   "cell_type": "code",
   "outputs": [],
   "execution_count": null,
   "source": [],
   "id": "67e7a742bd807ca3"
  }
 ],
 "metadata": {
  "kernelspec": {
   "display_name": "Python 3",
   "language": "python",
   "name": "python3"
  },
  "language_info": {
   "codemirror_mode": {
    "name": "ipython",
    "version": 2
   },
   "file_extension": ".py",
   "mimetype": "text/x-python",
   "name": "python",
   "nbconvert_exporter": "python",
   "pygments_lexer": "ipython2",
   "version": "2.7.6"
  }
 },
 "nbformat": 4,
 "nbformat_minor": 5
}
